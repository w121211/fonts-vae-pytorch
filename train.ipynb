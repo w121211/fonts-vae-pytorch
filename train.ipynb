{
 "cells": [
  {
   "cell_type": "code",
   "execution_count": null,
   "metadata": {},
   "outputs": [
    {
     "name": "stdout",
     "output_type": "stream",
     "text": [
      "/notebooks/fonts-vae-pytorch/code\n",
      "###############\n",
      "Epoch 0, Latent Size 1\n",
      "###############\n",
      "Loss at iteration 0: 12033.0762\n",
      "Loss at iteration 100: 1933.4513\n",
      "Loss at iteration 200: 335.4010\n",
      "Loss at iteration 300: 131.1000\n",
      "Loss at iteration 400: 70.0654\n",
      "Loss at iteration 500: 43.7125\n",
      "Loss at iteration 600: 29.9035\n",
      "Loss at iteration 700: 21.7495\n",
      "Loss at iteration 800: 16.5203\n",
      "###############\n",
      "Epoch 1, Latent Size 1\n",
      "###############\n",
      "Loss at iteration 0: 16.4391\n",
      "Loss at iteration 100: 16.0233\n"
     ]
    }
   ],
   "source": [
    "# train\n",
    "%cd code\n",
    "!python main.py"
   ]
  }
 ],
 "metadata": {
  "kernelspec": {
   "display_name": "Python 3",
   "language": "python",
   "name": "python3"
  },
  "language_info": {
   "codemirror_mode": {
    "name": "ipython",
    "version": 3
   },
   "file_extension": ".py",
   "mimetype": "text/x-python",
   "name": "python",
   "nbconvert_exporter": "python",
   "pygments_lexer": "ipython3",
   "version": "3.6.7"
  }
 },
 "nbformat": 4,
 "nbformat_minor": 2
}
